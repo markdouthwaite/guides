{
 "cells": [
  {
   "cell_type": "code",
   "execution_count": 1,
   "id": "4f8d9611-f29f-4457-8e5b-8a4d02b7a926",
   "metadata": {},
   "outputs": [
    {
     "data": {
      "text/plain": [
       "<neo4j.graph.Graph at 0x76f92f671a60>"
      ]
     },
     "execution_count": 1,
     "metadata": {},
     "output_type": "execute_result"
    }
   ],
   "source": [
    "import pyvis\n",
    "from neo4j import GraphDatabase, Result\n",
    "\n",
    "AUTH = (\"neo4j\", \"password\")\n",
    "URI = \"neo4j://localhost:7687\"\n",
    "\n",
    "with GraphDatabase.driver(URI, auth=AUTH) as driver:\n",
    "    results = driver.execute_query(\"MATCH (n)-[r]-(b) RETURN n, r, b;\", result_transformer_=Result.graph)\n",
    "\n",
    "results"
   ]
  },
  {
   "cell_type": "code",
   "execution_count": 2,
   "id": "1e51f07c-f2a0-42a4-a88c-4cf97ef71495",
   "metadata": {},
   "outputs": [
    {
     "name": "stderr",
     "output_type": "stream",
     "text": [
      "/tmp/ipykernel_139214/1452569249.py:1: DeprecationWarning: Importing display from IPython.core.display is deprecated since IPython 7.14, please import from IPython display\n",
      "  from IPython.core.display import display, HTML\n"
     ]
    }
   ],
   "source": [
    "from IPython.core.display import display, HTML\n",
    "\n",
    "g = pyvis.network.Network()\n",
    "\n",
    "for node in results.nodes:\n",
    "    # print({k: v for k, v in node.__dict__.items() if k != \"metadata\"})\n",
    "    # print({k: v for k, v in node.__dict__.items() if k != \"embedding\"})\n",
    "    name = node[\"name\"]\n",
    "\n",
    "    if name is None:\n",
    "        name = node[\"file_name\"]\n",
    "    \n",
    "    # break\n",
    "    node_label = list(node.labels)[0]\n",
    "    node_text = node[\"labels\"]\n",
    "    g.add_node(node.element_id, name, group=node_label)\n",
    "\n",
    "for relationship in results.relationships:\n",
    "    g.add_edge(\n",
    "        relationship.start_node.element_id,\n",
    "        relationship.end_node.element_id,\n",
    "        title=relationship.type\n",
    "    )\n",
    "\n",
    "g.save_graph(\"example.html\")\n",
    "# display(HTML(\"example.html\"))\n",
    "# g.show(\"example.html\", notebook=True)"
   ]
  },
  {
   "cell_type": "code",
   "execution_count": null,
   "id": "bcc50eb8-85f6-48bb-b155-c1565b299d9e",
   "metadata": {},
   "outputs": [],
   "source": []
  }
 ],
 "metadata": {
  "kernelspec": {
   "display_name": "Python 3 (ipykernel)",
   "language": "python",
   "name": "python3"
  },
  "language_info": {
   "codemirror_mode": {
    "name": "ipython",
    "version": 3
   },
   "file_extension": ".py",
   "mimetype": "text/x-python",
   "name": "python",
   "nbconvert_exporter": "python",
   "pygments_lexer": "ipython3",
   "version": "3.12.1"
  }
 },
 "nbformat": 4,
 "nbformat_minor": 5
}
